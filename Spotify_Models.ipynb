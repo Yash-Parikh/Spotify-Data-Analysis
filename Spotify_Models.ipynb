{
 "cells": [
  {
   "cell_type": "markdown",
   "metadata": {},
   "source": [
    "**Importing relevant libraries**"
   ]
  },
  {
   "cell_type": "code",
   "execution_count": 2,
   "metadata": {},
   "outputs": [],
   "source": [
    "import pandas as pd\n",
    "import numpy as np\n",
    "from sklearn.linear_model import LinearRegression\n",
    "from sklearn.linear_model import LogisticRegression\n",
    "from sklearn.tree import DecisionTreeClassifier\n",
    "from sklearn.ensemble import RandomForestClassifier\n",
    "from sklearn.model_selection import train_test_split\n",
    "from sklearn.preprocessing import StandardScaler\n",
    "from sklearn.neighbors import KNeighborsClassifier\n",
    "import tensorflow as tf"
   ]
  },
  {
   "cell_type": "markdown",
   "metadata": {},
   "source": [
    "**Importing Preprocessed Data**"
   ]
  },
  {
   "cell_type": "code",
   "execution_count": 3,
   "metadata": {},
   "outputs": [],
   "source": [
    "df = pd.read_csv('data_preprocessed.csv')"
   ]
  },
  {
   "cell_type": "code",
   "execution_count": 4,
   "metadata": {},
   "outputs": [
    {
     "data": {
      "text/html": [
       "<div>\n",
       "<style scoped>\n",
       "    .dataframe tbody tr th:only-of-type {\n",
       "        vertical-align: middle;\n",
       "    }\n",
       "\n",
       "    .dataframe tbody tr th {\n",
       "        vertical-align: top;\n",
       "    }\n",
       "\n",
       "    .dataframe thead th {\n",
       "        text-align: right;\n",
       "    }\n",
       "</style>\n",
       "<table border=\"1\" class=\"dataframe\">\n",
       "  <thead>\n",
       "    <tr style=\"text-align: right;\">\n",
       "      <th></th>\n",
       "      <th>year_41_60</th>\n",
       "      <th>year_61_80</th>\n",
       "      <th>year_81_00</th>\n",
       "      <th>year_01_20</th>\n",
       "      <th>acousticness</th>\n",
       "      <th>danceability</th>\n",
       "      <th>duration_ms</th>\n",
       "      <th>energy</th>\n",
       "      <th>explicit</th>\n",
       "      <th>instrumentalness</th>\n",
       "      <th>key</th>\n",
       "      <th>liveness</th>\n",
       "      <th>loudness</th>\n",
       "      <th>speechiness</th>\n",
       "      <th>tempo</th>\n",
       "      <th>valence</th>\n",
       "      <th>popularity</th>\n",
       "    </tr>\n",
       "  </thead>\n",
       "  <tbody>\n",
       "    <tr>\n",
       "      <th>0</th>\n",
       "      <td>0</td>\n",
       "      <td>0</td>\n",
       "      <td>0</td>\n",
       "      <td>0</td>\n",
       "      <td>0.995</td>\n",
       "      <td>0.708</td>\n",
       "      <td>158648</td>\n",
       "      <td>0.1950</td>\n",
       "      <td>0</td>\n",
       "      <td>0.563</td>\n",
       "      <td>10</td>\n",
       "      <td>0.1510</td>\n",
       "      <td>-12.428</td>\n",
       "      <td>0.0506</td>\n",
       "      <td>118.469</td>\n",
       "      <td>0.7790</td>\n",
       "      <td>0</td>\n",
       "    </tr>\n",
       "    <tr>\n",
       "      <th>1</th>\n",
       "      <td>0</td>\n",
       "      <td>0</td>\n",
       "      <td>0</td>\n",
       "      <td>0</td>\n",
       "      <td>0.994</td>\n",
       "      <td>0.379</td>\n",
       "      <td>282133</td>\n",
       "      <td>0.0135</td>\n",
       "      <td>0</td>\n",
       "      <td>0.901</td>\n",
       "      <td>8</td>\n",
       "      <td>0.0763</td>\n",
       "      <td>-28.454</td>\n",
       "      <td>0.0462</td>\n",
       "      <td>83.972</td>\n",
       "      <td>0.0767</td>\n",
       "      <td>0</td>\n",
       "    </tr>\n",
       "    <tr>\n",
       "      <th>2</th>\n",
       "      <td>0</td>\n",
       "      <td>0</td>\n",
       "      <td>0</td>\n",
       "      <td>0</td>\n",
       "      <td>0.604</td>\n",
       "      <td>0.749</td>\n",
       "      <td>104300</td>\n",
       "      <td>0.2200</td>\n",
       "      <td>0</td>\n",
       "      <td>0.000</td>\n",
       "      <td>5</td>\n",
       "      <td>0.1190</td>\n",
       "      <td>-19.924</td>\n",
       "      <td>0.9290</td>\n",
       "      <td>107.177</td>\n",
       "      <td>0.8800</td>\n",
       "      <td>0</td>\n",
       "    </tr>\n",
       "    <tr>\n",
       "      <th>3</th>\n",
       "      <td>0</td>\n",
       "      <td>0</td>\n",
       "      <td>0</td>\n",
       "      <td>0</td>\n",
       "      <td>0.995</td>\n",
       "      <td>0.781</td>\n",
       "      <td>180760</td>\n",
       "      <td>0.1300</td>\n",
       "      <td>0</td>\n",
       "      <td>0.887</td>\n",
       "      <td>1</td>\n",
       "      <td>0.1110</td>\n",
       "      <td>-14.734</td>\n",
       "      <td>0.0926</td>\n",
       "      <td>108.003</td>\n",
       "      <td>0.7200</td>\n",
       "      <td>0</td>\n",
       "    </tr>\n",
       "    <tr>\n",
       "      <th>4</th>\n",
       "      <td>0</td>\n",
       "      <td>0</td>\n",
       "      <td>0</td>\n",
       "      <td>0</td>\n",
       "      <td>0.990</td>\n",
       "      <td>0.210</td>\n",
       "      <td>687733</td>\n",
       "      <td>0.2040</td>\n",
       "      <td>0</td>\n",
       "      <td>0.908</td>\n",
       "      <td>11</td>\n",
       "      <td>0.0980</td>\n",
       "      <td>-16.829</td>\n",
       "      <td>0.0424</td>\n",
       "      <td>62.149</td>\n",
       "      <td>0.0693</td>\n",
       "      <td>1</td>\n",
       "    </tr>\n",
       "  </tbody>\n",
       "</table>\n",
       "</div>"
      ],
      "text/plain": [
       "   year_41_60  year_61_80  year_81_00  year_01_20  acousticness  danceability  \\\n",
       "0           0           0           0           0         0.995         0.708   \n",
       "1           0           0           0           0         0.994         0.379   \n",
       "2           0           0           0           0         0.604         0.749   \n",
       "3           0           0           0           0         0.995         0.781   \n",
       "4           0           0           0           0         0.990         0.210   \n",
       "\n",
       "   duration_ms  energy  explicit  instrumentalness  key  liveness  loudness  \\\n",
       "0       158648  0.1950         0             0.563   10    0.1510   -12.428   \n",
       "1       282133  0.0135         0             0.901    8    0.0763   -28.454   \n",
       "2       104300  0.2200         0             0.000    5    0.1190   -19.924   \n",
       "3       180760  0.1300         0             0.887    1    0.1110   -14.734   \n",
       "4       687733  0.2040         0             0.908   11    0.0980   -16.829   \n",
       "\n",
       "   speechiness    tempo  valence  popularity  \n",
       "0       0.0506  118.469   0.7790           0  \n",
       "1       0.0462   83.972   0.0767           0  \n",
       "2       0.9290  107.177   0.8800           0  \n",
       "3       0.0926  108.003   0.7200           0  \n",
       "4       0.0424   62.149   0.0693           1  "
      ]
     },
     "execution_count": 4,
     "metadata": {},
     "output_type": "execute_result"
    }
   ],
   "source": [
    "df.head()"
   ]
  },
  {
   "cell_type": "markdown",
   "metadata": {},
   "source": [
    "**Let's segragate inputs and targets for regression and classfication**"
   ]
  },
  {
   "cell_type": "code",
   "execution_count": 5,
   "metadata": {},
   "outputs": [],
   "source": [
    "inputs = df.drop(columns=['popularity'])\n",
    "targets_regression = df.popularity\n",
    "targets_classification = np.where(df.popularity>df.popularity.mean(),1,0)"
   ]
  },
  {
   "cell_type": "code",
   "execution_count": 6,
   "metadata": {},
   "outputs": [
    {
     "data": {
      "text/plain": [
       "((169909, 16), (169909,), (169909,))"
      ]
     },
     "execution_count": 6,
     "metadata": {},
     "output_type": "execute_result"
    }
   ],
   "source": [
    "inputs.shape, targets_regression.shape, targets_classification.shape"
   ]
  },
  {
   "cell_type": "markdown",
   "metadata": {},
   "source": [
    "**Now we will scale our inputs.**\n",
    "\n",
    "**There is no clear answer of should we scale our dummies or not, here we are scaling all inputs.**"
   ]
  },
  {
   "cell_type": "code",
   "execution_count": 7,
   "metadata": {},
   "outputs": [],
   "source": [
    "scaler = StandardScaler()\n",
    "scaler.fit(inputs)\n",
    "scaled_inputs = scaler.transform(inputs)"
   ]
  },
  {
   "cell_type": "code",
   "execution_count": 8,
   "metadata": {},
   "outputs": [],
   "source": [
    "x_train_regression, x_test_regression, y_train_regression, y_test_regression = train_test_split(\n",
    "    scaled_inputs, targets_regression, train_size=0.8, random_state=20)\n",
    "x_train_classification, x_test_classification, y_train_classification, y_test_classification = train_test_split(\n",
    "    scaled_inputs, targets_classification, train_size=0.8, random_state=20)"
   ]
  },
  {
   "cell_type": "markdown",
   "metadata": {},
   "source": [
    "**Linear Regression**"
   ]
  },
  {
   "cell_type": "code",
   "execution_count": 20,
   "metadata": {},
   "outputs": [
    {
     "data": {
      "text/plain": [
       "0.7644935896889175"
      ]
     },
     "execution_count": 20,
     "metadata": {},
     "output_type": "execute_result"
    }
   ],
   "source": [
    "linear_reg = LinearRegression()\n",
    "linear_reg.fit(x_train_regression,y_train_regression)\n",
    "linear_reg.score(x_train_regression,y_train_regression)"
   ]
  },
  {
   "cell_type": "code",
   "execution_count": 21,
   "metadata": {},
   "outputs": [
    {
     "data": {
      "text/plain": [
       "0.7607981046568085"
      ]
     },
     "execution_count": 21,
     "metadata": {},
     "output_type": "execute_result"
    }
   ],
   "source": [
    "linear_reg.score(x_test_regression,y_test_regression)"
   ]
  },
  {
   "cell_type": "markdown",
   "metadata": {},
   "source": [
    "**Let's make a dataframe containing information about features and their predicted weights by different models.**"
   ]
  },
  {
   "cell_type": "code",
   "execution_count": 22,
   "metadata": {},
   "outputs": [
    {
     "data": {
      "text/html": [
       "<div>\n",
       "<style scoped>\n",
       "    .dataframe tbody tr th:only-of-type {\n",
       "        vertical-align: middle;\n",
       "    }\n",
       "\n",
       "    .dataframe tbody tr th {\n",
       "        vertical-align: top;\n",
       "    }\n",
       "\n",
       "    .dataframe thead th {\n",
       "        text-align: right;\n",
       "    }\n",
       "</style>\n",
       "<table border=\"1\" class=\"dataframe\">\n",
       "  <thead>\n",
       "    <tr style=\"text-align: right;\">\n",
       "      <th></th>\n",
       "      <th>features</th>\n",
       "      <th>linear_regression_weights</th>\n",
       "    </tr>\n",
       "  </thead>\n",
       "  <tbody>\n",
       "    <tr>\n",
       "      <th>0</th>\n",
       "      <td>year_41_60</td>\n",
       "      <td>1.989786</td>\n",
       "    </tr>\n",
       "    <tr>\n",
       "      <th>1</th>\n",
       "      <td>year_61_80</td>\n",
       "      <td>11.245073</td>\n",
       "    </tr>\n",
       "    <tr>\n",
       "      <th>2</th>\n",
       "      <td>year_81_00</td>\n",
       "      <td>14.766021</td>\n",
       "    </tr>\n",
       "    <tr>\n",
       "      <th>3</th>\n",
       "      <td>year_01_20</td>\n",
       "      <td>20.281005</td>\n",
       "    </tr>\n",
       "    <tr>\n",
       "      <th>4</th>\n",
       "      <td>acousticness</td>\n",
       "      <td>-1.349986</td>\n",
       "    </tr>\n",
       "    <tr>\n",
       "      <th>5</th>\n",
       "      <td>danceability</td>\n",
       "      <td>1.322712</td>\n",
       "    </tr>\n",
       "    <tr>\n",
       "      <th>6</th>\n",
       "      <td>duration_ms</td>\n",
       "      <td>0.041982</td>\n",
       "    </tr>\n",
       "    <tr>\n",
       "      <th>7</th>\n",
       "      <td>energy</td>\n",
       "      <td>-0.325945</td>\n",
       "    </tr>\n",
       "    <tr>\n",
       "      <th>8</th>\n",
       "      <td>explicit</td>\n",
       "      <td>0.754893</td>\n",
       "    </tr>\n",
       "    <tr>\n",
       "      <th>9</th>\n",
       "      <td>instrumentalness</td>\n",
       "      <td>-0.822728</td>\n",
       "    </tr>\n",
       "    <tr>\n",
       "      <th>10</th>\n",
       "      <td>key</td>\n",
       "      <td>-0.034403</td>\n",
       "    </tr>\n",
       "    <tr>\n",
       "      <th>11</th>\n",
       "      <td>liveness</td>\n",
       "      <td>-0.539134</td>\n",
       "    </tr>\n",
       "    <tr>\n",
       "      <th>12</th>\n",
       "      <td>loudness</td>\n",
       "      <td>0.704411</td>\n",
       "    </tr>\n",
       "    <tr>\n",
       "      <th>13</th>\n",
       "      <td>speechiness</td>\n",
       "      <td>-1.285827</td>\n",
       "    </tr>\n",
       "    <tr>\n",
       "      <th>14</th>\n",
       "      <td>tempo</td>\n",
       "      <td>0.181038</td>\n",
       "    </tr>\n",
       "    <tr>\n",
       "      <th>15</th>\n",
       "      <td>valence</td>\n",
       "      <td>-0.978309</td>\n",
       "    </tr>\n",
       "  </tbody>\n",
       "</table>\n",
       "</div>"
      ],
      "text/plain": [
       "            features  linear_regression_weights\n",
       "0         year_41_60                   1.989786\n",
       "1         year_61_80                  11.245073\n",
       "2         year_81_00                  14.766021\n",
       "3         year_01_20                  20.281005\n",
       "4       acousticness                  -1.349986\n",
       "5       danceability                   1.322712\n",
       "6        duration_ms                   0.041982\n",
       "7             energy                  -0.325945\n",
       "8           explicit                   0.754893\n",
       "9   instrumentalness                  -0.822728\n",
       "10               key                  -0.034403\n",
       "11          liveness                  -0.539134\n",
       "12          loudness                   0.704411\n",
       "13       speechiness                  -1.285827\n",
       "14             tempo                   0.181038\n",
       "15           valence                  -0.978309"
      ]
     },
     "execution_count": 22,
     "metadata": {},
     "output_type": "execute_result"
    }
   ],
   "source": [
    "findings = pd.DataFrame(inputs.columns.values, columns=['features'])\n",
    "findings['linear_regression_weights'] = linear_reg.coef_\n",
    "findings"
   ]
  },
  {
   "cell_type": "markdown",
   "metadata": {},
   "source": [
    "**Logistic Regression**"
   ]
  },
  {
   "cell_type": "code",
   "execution_count": 12,
   "metadata": {},
   "outputs": [],
   "source": [
    "from sklearn.metrics import confusion_matrix\n",
    "from sklearn.metrics import accuracy_score\n",
    "from sklearn.metrics import f1_score"
   ]
  },
  {
   "cell_type": "code",
   "execution_count": 23,
   "metadata": {},
   "outputs": [
    {
     "data": {
      "text/plain": [
       "0.8505962759422337"
      ]
     },
     "execution_count": 23,
     "metadata": {},
     "output_type": "execute_result"
    }
   ],
   "source": [
    "logistic_reg = LogisticRegression()\n",
    "logistic_reg.fit(x_train_classification,y_train_classification)\n",
    "logistic_reg.score(x_train_classification,y_train_classification)"
   ]
  },
  {
   "cell_type": "code",
   "execution_count": 24,
   "metadata": {},
   "outputs": [
    {
     "data": {
      "text/plain": [
       "0.8490671531987523"
      ]
     },
     "execution_count": 24,
     "metadata": {},
     "output_type": "execute_result"
    }
   ],
   "source": [
    "logistic_reg.score(x_test_classification,y_test_classification)"
   ]
  },
  {
   "cell_type": "code",
   "execution_count": 25,
   "metadata": {},
   "outputs": [
    {
     "data": {
      "text/html": [
       "<div>\n",
       "<style scoped>\n",
       "    .dataframe tbody tr th:only-of-type {\n",
       "        vertical-align: middle;\n",
       "    }\n",
       "\n",
       "    .dataframe tbody tr th {\n",
       "        vertical-align: top;\n",
       "    }\n",
       "\n",
       "    .dataframe thead th {\n",
       "        text-align: right;\n",
       "    }\n",
       "</style>\n",
       "<table border=\"1\" class=\"dataframe\">\n",
       "  <thead>\n",
       "    <tr style=\"text-align: right;\">\n",
       "      <th></th>\n",
       "      <th>features</th>\n",
       "      <th>linear_regression_weights</th>\n",
       "      <th>logistic_regression_weights</th>\n",
       "    </tr>\n",
       "  </thead>\n",
       "  <tbody>\n",
       "    <tr>\n",
       "      <th>0</th>\n",
       "      <td>year_41_60</td>\n",
       "      <td>1.989786</td>\n",
       "      <td>0.794487</td>\n",
       "    </tr>\n",
       "    <tr>\n",
       "      <th>1</th>\n",
       "      <td>year_61_80</td>\n",
       "      <td>11.245073</td>\n",
       "      <td>1.916374</td>\n",
       "    </tr>\n",
       "    <tr>\n",
       "      <th>2</th>\n",
       "      <td>year_81_00</td>\n",
       "      <td>14.766021</td>\n",
       "      <td>2.591455</td>\n",
       "    </tr>\n",
       "    <tr>\n",
       "      <th>3</th>\n",
       "      <td>year_01_20</td>\n",
       "      <td>20.281005</td>\n",
       "      <td>4.177414</td>\n",
       "    </tr>\n",
       "    <tr>\n",
       "      <th>4</th>\n",
       "      <td>acousticness</td>\n",
       "      <td>-1.349986</td>\n",
       "      <td>-0.205189</td>\n",
       "    </tr>\n",
       "    <tr>\n",
       "      <th>5</th>\n",
       "      <td>danceability</td>\n",
       "      <td>1.322712</td>\n",
       "      <td>0.140955</td>\n",
       "    </tr>\n",
       "    <tr>\n",
       "      <th>6</th>\n",
       "      <td>duration_ms</td>\n",
       "      <td>0.041982</td>\n",
       "      <td>0.074141</td>\n",
       "    </tr>\n",
       "    <tr>\n",
       "      <th>7</th>\n",
       "      <td>energy</td>\n",
       "      <td>-0.325945</td>\n",
       "      <td>-0.148301</td>\n",
       "    </tr>\n",
       "    <tr>\n",
       "      <th>8</th>\n",
       "      <td>explicit</td>\n",
       "      <td>0.754893</td>\n",
       "      <td>0.219512</td>\n",
       "    </tr>\n",
       "    <tr>\n",
       "      <th>9</th>\n",
       "      <td>instrumentalness</td>\n",
       "      <td>-0.822728</td>\n",
       "      <td>-0.085407</td>\n",
       "    </tr>\n",
       "    <tr>\n",
       "      <th>10</th>\n",
       "      <td>key</td>\n",
       "      <td>-0.034403</td>\n",
       "      <td>-0.003315</td>\n",
       "    </tr>\n",
       "    <tr>\n",
       "      <th>11</th>\n",
       "      <td>liveness</td>\n",
       "      <td>-0.539134</td>\n",
       "      <td>-0.128802</td>\n",
       "    </tr>\n",
       "    <tr>\n",
       "      <th>12</th>\n",
       "      <td>loudness</td>\n",
       "      <td>0.704411</td>\n",
       "      <td>0.286507</td>\n",
       "    </tr>\n",
       "    <tr>\n",
       "      <th>13</th>\n",
       "      <td>speechiness</td>\n",
       "      <td>-1.285827</td>\n",
       "      <td>-0.188864</td>\n",
       "    </tr>\n",
       "    <tr>\n",
       "      <th>14</th>\n",
       "      <td>tempo</td>\n",
       "      <td>0.181038</td>\n",
       "      <td>0.019416</td>\n",
       "    </tr>\n",
       "    <tr>\n",
       "      <th>15</th>\n",
       "      <td>valence</td>\n",
       "      <td>-0.978309</td>\n",
       "      <td>-0.123343</td>\n",
       "    </tr>\n",
       "  </tbody>\n",
       "</table>\n",
       "</div>"
      ],
      "text/plain": [
       "            features  linear_regression_weights  logistic_regression_weights\n",
       "0         year_41_60                   1.989786                     0.794487\n",
       "1         year_61_80                  11.245073                     1.916374\n",
       "2         year_81_00                  14.766021                     2.591455\n",
       "3         year_01_20                  20.281005                     4.177414\n",
       "4       acousticness                  -1.349986                    -0.205189\n",
       "5       danceability                   1.322712                     0.140955\n",
       "6        duration_ms                   0.041982                     0.074141\n",
       "7             energy                  -0.325945                    -0.148301\n",
       "8           explicit                   0.754893                     0.219512\n",
       "9   instrumentalness                  -0.822728                    -0.085407\n",
       "10               key                  -0.034403                    -0.003315\n",
       "11          liveness                  -0.539134                    -0.128802\n",
       "12          loudness                   0.704411                     0.286507\n",
       "13       speechiness                  -1.285827                    -0.188864\n",
       "14             tempo                   0.181038                     0.019416\n",
       "15           valence                  -0.978309                    -0.123343"
      ]
     },
     "execution_count": 25,
     "metadata": {},
     "output_type": "execute_result"
    }
   ],
   "source": [
    "findings['logistic_regression_weights'] = logistic_reg.coef_[0]\n",
    "findings"
   ]
  },
  {
   "cell_type": "markdown",
   "metadata": {},
   "source": [
    "**KNN Classifications**"
   ]
  },
  {
   "cell_type": "markdown",
   "metadata": {},
   "source": [
    "import math\n",
    "math.sqrt(len(y_test_classification))"
   ]
  },
  {
   "cell_type": "markdown",
   "metadata": {},
   "source": [
    "knn_classifier = KNeighborsClassifier(n_neighbors=183, p=2)\n",
    "knn_classifier.fit(x_train_classification,y_train_classification)\n",
    "knn_classifier.score(x_train_classification,y_train_classification)"
   ]
  },
  {
   "cell_type": "markdown",
   "metadata": {},
   "source": [
    "note: As we noticed, KNN with this huge number of records is beyond computational abilities of our local machine.\n",
    "For this, let's apply othe classification models suitable for large data."
   ]
  },
  {
   "cell_type": "markdown",
   "metadata": {},
   "source": [
    "**Decision Tree Classification**"
   ]
  },
  {
   "cell_type": "code",
   "execution_count": 26,
   "metadata": {},
   "outputs": [
    {
     "data": {
      "text/plain": [
       "0.8589242755302479"
      ]
     },
     "execution_count": 26,
     "metadata": {},
     "output_type": "execute_result"
    }
   ],
   "source": [
    "dt_classifier = DecisionTreeClassifier(criterion='entropy', max_depth=10,random_state=100)\n",
    "dt_classifier.fit(x_train_classification, y_train_classification)\n",
    "dt_classifier.score(x_train_classification,y_train_classification)"
   ]
  },
  {
   "cell_type": "code",
   "execution_count": 27,
   "metadata": {},
   "outputs": [
    {
     "data": {
      "text/plain": [
       "0.8513036313342358"
      ]
     },
     "execution_count": 27,
     "metadata": {},
     "output_type": "execute_result"
    }
   ],
   "source": [
    "dt_classifier.score(x_test_classification,y_test_classification)"
   ]
  },
  {
   "cell_type": "code",
   "execution_count": 29,
   "metadata": {},
   "outputs": [
    {
     "data": {
      "text/html": [
       "<div>\n",
       "<style scoped>\n",
       "    .dataframe tbody tr th:only-of-type {\n",
       "        vertical-align: middle;\n",
       "    }\n",
       "\n",
       "    .dataframe tbody tr th {\n",
       "        vertical-align: top;\n",
       "    }\n",
       "\n",
       "    .dataframe thead th {\n",
       "        text-align: right;\n",
       "    }\n",
       "</style>\n",
       "<table border=\"1\" class=\"dataframe\">\n",
       "  <thead>\n",
       "    <tr style=\"text-align: right;\">\n",
       "      <th></th>\n",
       "      <th>features</th>\n",
       "      <th>linear_regression_weights</th>\n",
       "      <th>logistic_regression_weights</th>\n",
       "      <th>dt_classification</th>\n",
       "    </tr>\n",
       "  </thead>\n",
       "  <tbody>\n",
       "    <tr>\n",
       "      <th>0</th>\n",
       "      <td>year_41_60</td>\n",
       "      <td>1.989786</td>\n",
       "      <td>0.794487</td>\n",
       "      <td>0.003208</td>\n",
       "    </tr>\n",
       "    <tr>\n",
       "      <th>1</th>\n",
       "      <td>year_61_80</td>\n",
       "      <td>11.245073</td>\n",
       "      <td>1.916374</td>\n",
       "      <td>0.169878</td>\n",
       "    </tr>\n",
       "    <tr>\n",
       "      <th>2</th>\n",
       "      <td>year_81_00</td>\n",
       "      <td>14.766021</td>\n",
       "      <td>2.591455</td>\n",
       "      <td>0.321434</td>\n",
       "    </tr>\n",
       "    <tr>\n",
       "      <th>3</th>\n",
       "      <td>year_01_20</td>\n",
       "      <td>20.281005</td>\n",
       "      <td>4.177414</td>\n",
       "      <td>0.427852</td>\n",
       "    </tr>\n",
       "    <tr>\n",
       "      <th>4</th>\n",
       "      <td>acousticness</td>\n",
       "      <td>-1.349986</td>\n",
       "      <td>-0.205189</td>\n",
       "      <td>0.018287</td>\n",
       "    </tr>\n",
       "    <tr>\n",
       "      <th>5</th>\n",
       "      <td>danceability</td>\n",
       "      <td>1.322712</td>\n",
       "      <td>0.140955</td>\n",
       "      <td>0.006333</td>\n",
       "    </tr>\n",
       "    <tr>\n",
       "      <th>6</th>\n",
       "      <td>duration_ms</td>\n",
       "      <td>0.041982</td>\n",
       "      <td>0.074141</td>\n",
       "      <td>0.008481</td>\n",
       "    </tr>\n",
       "    <tr>\n",
       "      <th>7</th>\n",
       "      <td>energy</td>\n",
       "      <td>-0.325945</td>\n",
       "      <td>-0.148301</td>\n",
       "      <td>0.006214</td>\n",
       "    </tr>\n",
       "    <tr>\n",
       "      <th>8</th>\n",
       "      <td>explicit</td>\n",
       "      <td>0.754893</td>\n",
       "      <td>0.219512</td>\n",
       "      <td>0.001965</td>\n",
       "    </tr>\n",
       "    <tr>\n",
       "      <th>9</th>\n",
       "      <td>instrumentalness</td>\n",
       "      <td>-0.822728</td>\n",
       "      <td>-0.085407</td>\n",
       "      <td>0.004759</td>\n",
       "    </tr>\n",
       "    <tr>\n",
       "      <th>10</th>\n",
       "      <td>key</td>\n",
       "      <td>-0.034403</td>\n",
       "      <td>-0.003315</td>\n",
       "      <td>0.000783</td>\n",
       "    </tr>\n",
       "    <tr>\n",
       "      <th>11</th>\n",
       "      <td>liveness</td>\n",
       "      <td>-0.539134</td>\n",
       "      <td>-0.128802</td>\n",
       "      <td>0.006036</td>\n",
       "    </tr>\n",
       "    <tr>\n",
       "      <th>12</th>\n",
       "      <td>loudness</td>\n",
       "      <td>0.704411</td>\n",
       "      <td>0.286507</td>\n",
       "      <td>0.010816</td>\n",
       "    </tr>\n",
       "    <tr>\n",
       "      <th>13</th>\n",
       "      <td>speechiness</td>\n",
       "      <td>-1.285827</td>\n",
       "      <td>-0.188864</td>\n",
       "      <td>0.006812</td>\n",
       "    </tr>\n",
       "    <tr>\n",
       "      <th>14</th>\n",
       "      <td>tempo</td>\n",
       "      <td>0.181038</td>\n",
       "      <td>0.019416</td>\n",
       "      <td>0.002606</td>\n",
       "    </tr>\n",
       "    <tr>\n",
       "      <th>15</th>\n",
       "      <td>valence</td>\n",
       "      <td>-0.978309</td>\n",
       "      <td>-0.123343</td>\n",
       "      <td>0.004538</td>\n",
       "    </tr>\n",
       "  </tbody>\n",
       "</table>\n",
       "</div>"
      ],
      "text/plain": [
       "            features  linear_regression_weights  logistic_regression_weights  \\\n",
       "0         year_41_60                   1.989786                     0.794487   \n",
       "1         year_61_80                  11.245073                     1.916374   \n",
       "2         year_81_00                  14.766021                     2.591455   \n",
       "3         year_01_20                  20.281005                     4.177414   \n",
       "4       acousticness                  -1.349986                    -0.205189   \n",
       "5       danceability                   1.322712                     0.140955   \n",
       "6        duration_ms                   0.041982                     0.074141   \n",
       "7             energy                  -0.325945                    -0.148301   \n",
       "8           explicit                   0.754893                     0.219512   \n",
       "9   instrumentalness                  -0.822728                    -0.085407   \n",
       "10               key                  -0.034403                    -0.003315   \n",
       "11          liveness                  -0.539134                    -0.128802   \n",
       "12          loudness                   0.704411                     0.286507   \n",
       "13       speechiness                  -1.285827                    -0.188864   \n",
       "14             tempo                   0.181038                     0.019416   \n",
       "15           valence                  -0.978309                    -0.123343   \n",
       "\n",
       "    dt_classification  \n",
       "0            0.003208  \n",
       "1            0.169878  \n",
       "2            0.321434  \n",
       "3            0.427852  \n",
       "4            0.018287  \n",
       "5            0.006333  \n",
       "6            0.008481  \n",
       "7            0.006214  \n",
       "8            0.001965  \n",
       "9            0.004759  \n",
       "10           0.000783  \n",
       "11           0.006036  \n",
       "12           0.010816  \n",
       "13           0.006812  \n",
       "14           0.002606  \n",
       "15           0.004538  "
      ]
     },
     "execution_count": 29,
     "metadata": {},
     "output_type": "execute_result"
    }
   ],
   "source": [
    "findings['dt_classification']=dt_classifier.feature_importances_\n",
    "findings"
   ]
  },
  {
   "cell_type": "markdown",
   "metadata": {},
   "source": [
    "**Random Forest Classification**"
   ]
  },
  {
   "cell_type": "code",
   "execution_count": 30,
   "metadata": {},
   "outputs": [
    {
     "data": {
      "text/plain": [
       "0.8590861271123471"
      ]
     },
     "execution_count": 30,
     "metadata": {},
     "output_type": "execute_result"
    }
   ],
   "source": [
    "rf_classifier = RandomForestClassifier(criterion='entropy', max_depth=10, random_state=100, n_jobs=2)\n",
    "rf_classifier.fit(x_train_classification,y_train_classification)\n",
    "rf_classifier.score(x_train_classification,y_train_classification)"
   ]
  },
  {
   "cell_type": "code",
   "execution_count": 31,
   "metadata": {},
   "outputs": [
    {
     "data": {
      "text/plain": [
       "0.854628921193573"
      ]
     },
     "execution_count": 31,
     "metadata": {},
     "output_type": "execute_result"
    }
   ],
   "source": [
    "rf_classifier.score(x_test_classification,y_test_classification)"
   ]
  },
  {
   "cell_type": "code",
   "execution_count": 32,
   "metadata": {},
   "outputs": [
    {
     "data": {
      "text/html": [
       "<div>\n",
       "<style scoped>\n",
       "    .dataframe tbody tr th:only-of-type {\n",
       "        vertical-align: middle;\n",
       "    }\n",
       "\n",
       "    .dataframe tbody tr th {\n",
       "        vertical-align: top;\n",
       "    }\n",
       "\n",
       "    .dataframe thead th {\n",
       "        text-align: right;\n",
       "    }\n",
       "</style>\n",
       "<table border=\"1\" class=\"dataframe\">\n",
       "  <thead>\n",
       "    <tr style=\"text-align: right;\">\n",
       "      <th></th>\n",
       "      <th>features</th>\n",
       "      <th>linear_regression_weights</th>\n",
       "      <th>logistic_regression_weights</th>\n",
       "      <th>dt_classification</th>\n",
       "      <th>rf_classification</th>\n",
       "    </tr>\n",
       "  </thead>\n",
       "  <tbody>\n",
       "    <tr>\n",
       "      <th>0</th>\n",
       "      <td>year_41_60</td>\n",
       "      <td>1.989786</td>\n",
       "      <td>0.794487</td>\n",
       "      <td>0.003208</td>\n",
       "      <td>0.166184</td>\n",
       "    </tr>\n",
       "    <tr>\n",
       "      <th>1</th>\n",
       "      <td>year_61_80</td>\n",
       "      <td>11.245073</td>\n",
       "      <td>1.916374</td>\n",
       "      <td>0.169878</td>\n",
       "      <td>0.063375</td>\n",
       "    </tr>\n",
       "    <tr>\n",
       "      <th>2</th>\n",
       "      <td>year_81_00</td>\n",
       "      <td>14.766021</td>\n",
       "      <td>2.591455</td>\n",
       "      <td>0.321434</td>\n",
       "      <td>0.134201</td>\n",
       "    </tr>\n",
       "    <tr>\n",
       "      <th>3</th>\n",
       "      <td>year_01_20</td>\n",
       "      <td>20.281005</td>\n",
       "      <td>4.177414</td>\n",
       "      <td>0.427852</td>\n",
       "      <td>0.287671</td>\n",
       "    </tr>\n",
       "    <tr>\n",
       "      <th>4</th>\n",
       "      <td>acousticness</td>\n",
       "      <td>-1.349986</td>\n",
       "      <td>-0.205189</td>\n",
       "      <td>0.018287</td>\n",
       "      <td>0.146654</td>\n",
       "    </tr>\n",
       "    <tr>\n",
       "      <th>5</th>\n",
       "      <td>danceability</td>\n",
       "      <td>1.322712</td>\n",
       "      <td>0.140955</td>\n",
       "      <td>0.006333</td>\n",
       "      <td>0.006695</td>\n",
       "    </tr>\n",
       "    <tr>\n",
       "      <th>6</th>\n",
       "      <td>duration_ms</td>\n",
       "      <td>0.041982</td>\n",
       "      <td>0.074141</td>\n",
       "      <td>0.008481</td>\n",
       "      <td>0.030793</td>\n",
       "    </tr>\n",
       "    <tr>\n",
       "      <th>7</th>\n",
       "      <td>energy</td>\n",
       "      <td>-0.325945</td>\n",
       "      <td>-0.148301</td>\n",
       "      <td>0.006214</td>\n",
       "      <td>0.050959</td>\n",
       "    </tr>\n",
       "    <tr>\n",
       "      <th>8</th>\n",
       "      <td>explicit</td>\n",
       "      <td>0.754893</td>\n",
       "      <td>0.219512</td>\n",
       "      <td>0.001965</td>\n",
       "      <td>0.007544</td>\n",
       "    </tr>\n",
       "    <tr>\n",
       "      <th>9</th>\n",
       "      <td>instrumentalness</td>\n",
       "      <td>-0.822728</td>\n",
       "      <td>-0.085407</td>\n",
       "      <td>0.004759</td>\n",
       "      <td>0.013591</td>\n",
       "    </tr>\n",
       "    <tr>\n",
       "      <th>10</th>\n",
       "      <td>key</td>\n",
       "      <td>-0.034403</td>\n",
       "      <td>-0.003315</td>\n",
       "      <td>0.000783</td>\n",
       "      <td>0.001449</td>\n",
       "    </tr>\n",
       "    <tr>\n",
       "      <th>11</th>\n",
       "      <td>liveness</td>\n",
       "      <td>-0.539134</td>\n",
       "      <td>-0.128802</td>\n",
       "      <td>0.006036</td>\n",
       "      <td>0.008445</td>\n",
       "    </tr>\n",
       "    <tr>\n",
       "      <th>12</th>\n",
       "      <td>loudness</td>\n",
       "      <td>0.704411</td>\n",
       "      <td>0.286507</td>\n",
       "      <td>0.010816</td>\n",
       "      <td>0.049066</td>\n",
       "    </tr>\n",
       "    <tr>\n",
       "      <th>13</th>\n",
       "      <td>speechiness</td>\n",
       "      <td>-1.285827</td>\n",
       "      <td>-0.188864</td>\n",
       "      <td>0.006812</td>\n",
       "      <td>0.021251</td>\n",
       "    </tr>\n",
       "    <tr>\n",
       "      <th>14</th>\n",
       "      <td>tempo</td>\n",
       "      <td>0.181038</td>\n",
       "      <td>0.019416</td>\n",
       "      <td>0.002606</td>\n",
       "      <td>0.003555</td>\n",
       "    </tr>\n",
       "    <tr>\n",
       "      <th>15</th>\n",
       "      <td>valence</td>\n",
       "      <td>-0.978309</td>\n",
       "      <td>-0.123343</td>\n",
       "      <td>0.004538</td>\n",
       "      <td>0.008567</td>\n",
       "    </tr>\n",
       "  </tbody>\n",
       "</table>\n",
       "</div>"
      ],
      "text/plain": [
       "            features  linear_regression_weights  logistic_regression_weights  \\\n",
       "0         year_41_60                   1.989786                     0.794487   \n",
       "1         year_61_80                  11.245073                     1.916374   \n",
       "2         year_81_00                  14.766021                     2.591455   \n",
       "3         year_01_20                  20.281005                     4.177414   \n",
       "4       acousticness                  -1.349986                    -0.205189   \n",
       "5       danceability                   1.322712                     0.140955   \n",
       "6        duration_ms                   0.041982                     0.074141   \n",
       "7             energy                  -0.325945                    -0.148301   \n",
       "8           explicit                   0.754893                     0.219512   \n",
       "9   instrumentalness                  -0.822728                    -0.085407   \n",
       "10               key                  -0.034403                    -0.003315   \n",
       "11          liveness                  -0.539134                    -0.128802   \n",
       "12          loudness                   0.704411                     0.286507   \n",
       "13       speechiness                  -1.285827                    -0.188864   \n",
       "14             tempo                   0.181038                     0.019416   \n",
       "15           valence                  -0.978309                    -0.123343   \n",
       "\n",
       "    dt_classification  rf_classification  \n",
       "0            0.003208           0.166184  \n",
       "1            0.169878           0.063375  \n",
       "2            0.321434           0.134201  \n",
       "3            0.427852           0.287671  \n",
       "4            0.018287           0.146654  \n",
       "5            0.006333           0.006695  \n",
       "6            0.008481           0.030793  \n",
       "7            0.006214           0.050959  \n",
       "8            0.001965           0.007544  \n",
       "9            0.004759           0.013591  \n",
       "10           0.000783           0.001449  \n",
       "11           0.006036           0.008445  \n",
       "12           0.010816           0.049066  \n",
       "13           0.006812           0.021251  \n",
       "14           0.002606           0.003555  \n",
       "15           0.004538           0.008567  "
      ]
     },
     "execution_count": 32,
     "metadata": {},
     "output_type": "execute_result"
    }
   ],
   "source": [
    "findings['rf_classification']=rf_classifier.feature_importances_\n",
    "findings"
   ]
  },
  {
   "cell_type": "code",
   "execution_count": null,
   "metadata": {},
   "outputs": [],
   "source": []
  }
 ],
 "metadata": {
  "kernelspec": {
   "display_name": "Python [conda env:py36-TF2.0]",
   "language": "python",
   "name": "conda-env-py36-TF2.0-py"
  },
  "language_info": {
   "codemirror_mode": {
    "name": "ipython",
    "version": 3
   },
   "file_extension": ".py",
   "mimetype": "text/x-python",
   "name": "python",
   "nbconvert_exporter": "python",
   "pygments_lexer": "ipython3",
   "version": "3.6.2"
  }
 },
 "nbformat": 4,
 "nbformat_minor": 4
}
